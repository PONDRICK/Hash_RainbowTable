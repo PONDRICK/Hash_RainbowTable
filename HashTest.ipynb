{
 "cells": [
  {
   "cell_type": "code",
   "execution_count": 1,
   "id": "6e9d79a4",
   "metadata": {},
   "outputs": [
    {
     "name": "stdout",
     "output_type": "stream",
     "text": [
      "Requirement already satisfied: ipython-autotime in c:\\users\\pond5\\anaconda3\\lib\\site-packages (0.3.2)\n",
      "Requirement already satisfied: ipython in c:\\users\\pond5\\anaconda3\\lib\\site-packages (from ipython-autotime) (8.12.0)\n",
      "Requirement already satisfied: backcall in c:\\users\\pond5\\anaconda3\\lib\\site-packages (from ipython->ipython-autotime) (0.2.0)\n",
      "Requirement already satisfied: decorator in c:\\users\\pond5\\anaconda3\\lib\\site-packages (from ipython->ipython-autotime) (5.1.1)\n",
      "Requirement already satisfied: jedi>=0.16 in c:\\users\\pond5\\anaconda3\\lib\\site-packages (from ipython->ipython-autotime) (0.18.1)\n",
      "Requirement already satisfied: matplotlib-inline in c:\\users\\pond5\\anaconda3\\lib\\site-packages (from ipython->ipython-autotime) (0.1.6)\n",
      "Requirement already satisfied: pickleshare in c:\\users\\pond5\\anaconda3\\lib\\site-packages (from ipython->ipython-autotime) (0.7.5)\n",
      "Requirement already satisfied: prompt-toolkit!=3.0.37,<3.1.0,>=3.0.30 in c:\\users\\pond5\\anaconda3\\lib\\site-packages (from ipython->ipython-autotime) (3.0.36)\n",
      "Requirement already satisfied: pygments>=2.4.0 in c:\\users\\pond5\\anaconda3\\lib\\site-packages (from ipython->ipython-autotime) (2.15.1)\n",
      "Requirement already satisfied: stack-data in c:\\users\\pond5\\anaconda3\\lib\\site-packages (from ipython->ipython-autotime) (0.2.0)\n",
      "Requirement already satisfied: traitlets>=5 in c:\\users\\pond5\\anaconda3\\lib\\site-packages (from ipython->ipython-autotime) (5.7.1)\n",
      "Requirement already satisfied: colorama in c:\\users\\pond5\\anaconda3\\lib\\site-packages (from ipython->ipython-autotime) (0.4.6)\n",
      "Requirement already satisfied: parso<0.9.0,>=0.8.0 in c:\\users\\pond5\\anaconda3\\lib\\site-packages (from jedi>=0.16->ipython->ipython-autotime) (0.8.3)\n",
      "Requirement already satisfied: wcwidth in c:\\users\\pond5\\anaconda3\\lib\\site-packages (from prompt-toolkit!=3.0.37,<3.1.0,>=3.0.30->ipython->ipython-autotime) (0.2.5)\n",
      "Requirement already satisfied: executing in c:\\users\\pond5\\anaconda3\\lib\\site-packages (from stack-data->ipython->ipython-autotime) (0.8.3)\n",
      "Requirement already satisfied: asttokens in c:\\users\\pond5\\anaconda3\\lib\\site-packages (from stack-data->ipython->ipython-autotime) (2.0.5)\n",
      "Requirement already satisfied: pure-eval in c:\\users\\pond5\\anaconda3\\lib\\site-packages (from stack-data->ipython->ipython-autotime) (0.2.2)\n",
      "Requirement already satisfied: six in c:\\users\\pond5\\anaconda3\\lib\\site-packages (from asttokens->stack-data->ipython->ipython-autotime) (1.16.0)\n",
      "time: 0 ns (started: 2024-01-25 16:49:45 +07:00)\n"
     ]
    }
   ],
   "source": [
    "import pandas as pd\n",
    "import hashlib\n",
    "import numpy as np\n",
    "import random\n",
    "import itertools\n",
    "import timeit\n",
    "!pip install ipython-autotime\n",
    "%load_ext autotime"
   ]
  },
  {
   "cell_type": "code",
   "execution_count": 2,
   "id": "80f6ea62",
   "metadata": {},
   "outputs": [
    {
     "name": "stdout",
     "output_type": "stream",
     "text": [
      "time: 31 ms (started: 2024-01-25 16:49:48 +07:00)\n"
     ]
    }
   ],
   "source": [
    "df = pd.read_csv('10k-most-common.txt',header= None)"
   ]
  },
  {
   "cell_type": "code",
   "execution_count": 3,
   "id": "ad82d483",
   "metadata": {},
   "outputs": [
    {
     "data": {
      "text/html": [
       "<div>\n",
       "<style scoped>\n",
       "    .dataframe tbody tr th:only-of-type {\n",
       "        vertical-align: middle;\n",
       "    }\n",
       "\n",
       "    .dataframe tbody tr th {\n",
       "        vertical-align: top;\n",
       "    }\n",
       "\n",
       "    .dataframe thead th {\n",
       "        text-align: right;\n",
       "    }\n",
       "</style>\n",
       "<table border=\"1\" class=\"dataframe\">\n",
       "  <thead>\n",
       "    <tr style=\"text-align: right;\">\n",
       "      <th></th>\n",
       "      <th>0</th>\n",
       "    </tr>\n",
       "  </thead>\n",
       "  <tbody>\n",
       "    <tr>\n",
       "      <th>0</th>\n",
       "      <td>password</td>\n",
       "    </tr>\n",
       "    <tr>\n",
       "      <th>1</th>\n",
       "      <td>123456</td>\n",
       "    </tr>\n",
       "    <tr>\n",
       "      <th>2</th>\n",
       "      <td>12345678</td>\n",
       "    </tr>\n",
       "    <tr>\n",
       "      <th>3</th>\n",
       "      <td>1234</td>\n",
       "    </tr>\n",
       "    <tr>\n",
       "      <th>4</th>\n",
       "      <td>qwerty</td>\n",
       "    </tr>\n",
       "    <tr>\n",
       "      <th>...</th>\n",
       "      <td>...</td>\n",
       "    </tr>\n",
       "    <tr>\n",
       "      <th>9995</th>\n",
       "      <td>eighty</td>\n",
       "    </tr>\n",
       "    <tr>\n",
       "      <th>9996</th>\n",
       "      <td>epson</td>\n",
       "    </tr>\n",
       "    <tr>\n",
       "      <th>9997</th>\n",
       "      <td>evangeli</td>\n",
       "    </tr>\n",
       "    <tr>\n",
       "      <th>9998</th>\n",
       "      <td>eeeee1</td>\n",
       "    </tr>\n",
       "    <tr>\n",
       "      <th>9999</th>\n",
       "      <td>eyphed</td>\n",
       "    </tr>\n",
       "  </tbody>\n",
       "</table>\n",
       "<p>10000 rows × 1 columns</p>\n",
       "</div>"
      ],
      "text/plain": [
       "             0\n",
       "0     password\n",
       "1       123456\n",
       "2     12345678\n",
       "3         1234\n",
       "4       qwerty\n",
       "...        ...\n",
       "9995    eighty\n",
       "9996     epson\n",
       "9997  evangeli\n",
       "9998    eeeee1\n",
       "9999    eyphed\n",
       "\n",
       "[10000 rows x 1 columns]"
      ]
     },
     "execution_count": 3,
     "metadata": {},
     "output_type": "execute_result"
    },
    {
     "name": "stdout",
     "output_type": "stream",
     "text": [
      "time: 15 ms (started: 2024-01-25 16:49:50 +07:00)\n"
     ]
    }
   ],
   "source": [
    "df"
   ]
  },
  {
   "cell_type": "code",
   "execution_count": 4,
   "id": "7db2a5dd",
   "metadata": {},
   "outputs": [
    {
     "name": "stdout",
     "output_type": "stream",
     "text": [
      "             0                                       permutations\n",
      "0     password  [PASSWORD, PASSWORd, PASSWOrD, PASSWOrd, PASSW...\n",
      "1       123456  [123456, 123456, 123456, 123456, 123456, 12345...\n",
      "2     12345678  [12345678, 12345678, 12345678, 12345678, 12345...\n",
      "3         1234  [1234, 1234, 1234, 1234, 1234, 1234, 1234, 123...\n",
      "4       qwerty  [QWERTY, QWERTy, QWERtY, QWERty, QWErTY, QWErT...\n",
      "...        ...                                                ...\n",
      "9995    eighty  [EIGHTY, EIGHTy, EIGHtY, EIGHty, EIGhTY, EIGhT...\n",
      "9996     epson  [EPSON, EPSOn, EPSoN, EPSon, EPsON, EPsOn, EPs...\n",
      "9997  evangeli  [EVANGELI, EVANGELi, EVANGElI, EVANGEli, EVANG...\n",
      "9998    eeeee1  [EEEEE1, EEEEE1, EEEEe1, EEEEe1, EEEeE1, EEEeE...\n",
      "9999    eyphed  [EYPHED, EYPHEd, EYPHeD, EYPHed, EYPhED, EYPhE...\n",
      "\n",
      "[10000 rows x 2 columns]\n",
      "time: 359 ms (started: 2024-01-25 16:49:55 +07:00)\n"
     ]
    }
   ],
   "source": [
    "def generate_permutations(word):\n",
    "    if isinstance(word, str):  \n",
    "        return [''.join(p) for p in itertools.product(*zip(word.upper(), word.lower()))]\n",
    "    else:\n",
    "        return [word]  \n",
    "\n",
    "\n",
    "df['permutations'] = df[0].apply(generate_permutations)\n",
    "\n",
    "\n",
    "print(df)"
   ]
  },
  {
   "cell_type": "code",
   "execution_count": 5,
   "id": "28dac036",
   "metadata": {},
   "outputs": [
    {
     "name": "stdout",
     "output_type": "stream",
     "text": [
      "                                           permutations  \\\n",
      "0     [PASSWORD, PASSWORd, PASSWOrD, PASSWOrd, PASSW...   \n",
      "1     [123456, 123456, 123456, 123456, 123456, 12345...   \n",
      "2     [12345678, 12345678, 12345678, 12345678, 12345...   \n",
      "3     [1234, 1234, 1234, 1234, 1234, 1234, 1234, 123...   \n",
      "4     [QWERTY, QWERTy, QWERtY, QWERty, QWErTY, QWErT...   \n",
      "...                                                 ...   \n",
      "9995  [EIGHTY, EIGHTy, EIGHtY, EIGHty, EIGhTY, EIGhT...   \n",
      "9996  [EPSON, EPSOn, EPSoN, EPSon, EPsON, EPsOn, EPs...   \n",
      "9997  [EVANGELI, EVANGELi, EVANGElI, EVANGEli, EVANG...   \n",
      "9998  [EEEEE1, EEEEE1, EEEEe1, EEEEe1, EEEeE1, EEEeE...   \n",
      "9999  [EYPHED, EYPHEd, EYPHeD, EYPHed, EYPhED, EYPhE...   \n",
      "\n",
      "                                            sha1_hashes  \\\n",
      "0     [112bb791304791ddcf692e29fd5cf149b35fea37, 240...   \n",
      "1     [7c4a8d09ca3762af61e59520943dc26494f8941b, 7c4...   \n",
      "2     [7c222fb2927d828af22f592134e8932480637c0d, 7c2...   \n",
      "3     [7110eda4d09e062aa5e4a390b0a572ac0d2c0220, 711...   \n",
      "4     [65e21ea0de8852abc2b0d821c1f9ac6f2cd5bd98, 25a...   \n",
      "...                                                 ...   \n",
      "9995  [b3c5af6415b2d94fbe097eb38101a66dd1b97ede, a36...   \n",
      "9996  [7cf395bf6720ddec63a114d35b6c8dc58b065322, 514...   \n",
      "9997  [685eb27b2d7ade6a92acdad004e5341ae1b0acec, 5c5...   \n",
      "9998  [06ba977674c88b94ec9c716a8e601a4d14b9a10b, 06b...   \n",
      "9999  [808fd952e5b15b297a39c86a26f44387784185d6, 467...   \n",
      "\n",
      "                                             md5_hashes  \n",
      "0     [319f4d26e3c536b5dd871bb2c52e3178, 630eba9070a...  \n",
      "1     [e10adc3949ba59abbe56e057f20f883e, e10adc3949b...  \n",
      "2     [25d55ad283aa400af464c76d713c07ad, 25d55ad283a...  \n",
      "3     [81dc9bdb52d04dc20036dbd8313ed055, 81dc9bdb52d...  \n",
      "4     [c3981fa8d26e95d911fe8eaeb6570f2f, 6210a563d97...  \n",
      "...                                                 ...  \n",
      "9995  [5053769aeeab5de5d6a69ac656697c65, 46867fa19f7...  \n",
      "9996  [146ae729839fab95f5876d8aeb381608, 764a87f2912...  \n",
      "9997  [5613a7983a92bb53b8d8d3bd6cbeb543, a7bf0a5bc27...  \n",
      "9998  [01901240278101a34f58168b6cdfdb0c, 01901240278...  \n",
      "9999  [f152150a3db6ecefab342a11164d28fa, b77eca30e32...  \n",
      "\n",
      "[10000 rows x 3 columns]\n",
      "time: 4.5 s (started: 2024-01-25 16:49:57 +07:00)\n"
     ]
    }
   ],
   "source": [
    "df['permutations'] = df[0].apply(generate_permutations)\n",
    "\n",
    "\n",
    "def hash_permutations(permutations):\n",
    "    sha1_hashes = [hashlib.sha1(str(p).encode()).hexdigest() for p in permutations]\n",
    "    md5_hashes = [hashlib.md5(str(p).encode()).hexdigest() for p in permutations]\n",
    "    return sha1_hashes, md5_hashes\n",
    "\n",
    "\n",
    "df['sha1_hashes'], df['md5_hashes'] = zip(*df['permutations'].map(hash_permutations))\n",
    "\n",
    "\n",
    "print(df[['permutations', 'sha1_hashes', 'md5_hashes']])"
   ]
  },
  {
   "cell_type": "code",
   "execution_count": 6,
   "id": "a8dfb47c",
   "metadata": {},
   "outputs": [
    {
     "name": "stdout",
     "output_type": "stream",
     "text": [
      "             0                                       permutations  \\\n",
      "1157  thailand  [THAILAND, THAILANd, THAILAnD, THAILAnd, THAIL...   \n",
      "\n",
      "                                            sha1_hashes  \\\n",
      "1157  [4869b5e8439d0532a812c0f9aa2de11aa2f61bf1, d55...   \n",
      "\n",
      "                                             md5_hashes  \n",
      "1157  [9df9f1156e86609b2ec294b065be043a, 2682f8ab940...  \n",
      "time: 93 ms (started: 2024-01-25 16:50:04 +07:00)\n"
     ]
    }
   ],
   "source": [
    "search_result = df[df['sha1_hashes'].apply(lambda x: 'd54cc1fe76f5186380a0939d2fc1723c44e8a5f7' in x) |\n",
    "                  df['md5_hashes'].apply(lambda x: 'd54cc1fe76f5186380a0939d2fc1723c44e8a5f7' in x)]\n",
    "\n",
    "\n",
    "print(search_result)"
   ]
  },
  {
   "cell_type": "code",
   "execution_count": 7,
   "id": "51bdc7ce",
   "metadata": {},
   "outputs": [
    {
     "name": "stdout",
     "output_type": "stream",
     "text": [
      "['ThaiLanD']\n",
      "time: 0 ns (started: 2024-01-25 16:50:08 +07:00)\n"
     ]
    }
   ],
   "source": [
    "matching_permutations = []\n",
    "for word, sha1_hashes, md5_hashes, permutations in zip(search_result[0], search_result['sha1_hashes'], search_result['md5_hashes'], search_result['permutations']):\n",
    "    if 'd54cc1fe76f5186380a0939d2fc1723c44e8a5f7' in sha1_hashes or 'd54cc1fe76f5186380a0939d2fc1723c44e8a5f7' in md5_hashes:\n",
    "        matching_permutations.extend(permutations)\n",
    "\n",
    "\n",
    "matching_words = [word for word in matching_permutations if hashlib.sha1(word.encode()).hexdigest() == 'd54cc1fe76f5186380a0939d2fc1723c44e8a5f7']\n",
    "\n",
    "\n",
    "print(matching_words)"
   ]
  },
  {
   "cell_type": "code",
   "execution_count": 8,
   "id": "233f6abe",
   "metadata": {},
   "outputs": [
    {
     "name": "stdout",
     "output_type": "stream",
     "text": [
      "Execution time for hashing 1 permutations: 0.00023090001195669174 seconds\n",
      "time: 16 ms (started: 2024-01-25 16:50:11 +07:00)\n"
     ]
    }
   ],
   "source": [
    "def hash_permutations2(permutations):\n",
    "    sha1_hashes2 = [hashlib.sha1(str(p).encode()).hexdigest() for p in permutations]\n",
    "    return sha1_hashes2\n",
    "execution_time = timeit.timeit(lambda: hash_permutations2(df['permutations'][0][0]), number=1)\n",
    "print(f\"Execution time for hashing 1 permutations: {execution_time} seconds\")\n"
   ]
  },
  {
   "cell_type": "code",
   "execution_count": null,
   "id": "095e9570",
   "metadata": {},
   "outputs": [],
   "source": []
  },
  {
   "cell_type": "code",
   "execution_count": null,
   "id": "b3d12ced",
   "metadata": {},
   "outputs": [],
   "source": []
  }
 ],
 "metadata": {
  "kernelspec": {
   "display_name": "Python 3 (ipykernel)",
   "language": "python",
   "name": "python3"
  },
  "language_info": {
   "codemirror_mode": {
    "name": "ipython",
    "version": 3
   },
   "file_extension": ".py",
   "mimetype": "text/x-python",
   "name": "python",
   "nbconvert_exporter": "python",
   "pygments_lexer": "ipython3",
   "version": "3.11.4"
  }
 },
 "nbformat": 4,
 "nbformat_minor": 5
}
